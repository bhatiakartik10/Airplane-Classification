{
  "nbformat": 4,
  "nbformat_minor": 0,
  "metadata": {
    "colab": {
      "name": "Train.ipynb",
      "provenance": []
    },
    "kernelspec": {
      "name": "python3",
      "display_name": "Python 3"
    },
    "accelerator": "GPU"
  },
  "cells": [
    {
      "cell_type": "code",
      "metadata": {
        "id": "gTB2AJETBt_2",
        "colab_type": "code",
        "colab": {}
      },
      "source": [
        "import torch\n",
        "import torch.nn as nn\n",
        "from torch.utils.data import DataLoader\n",
        "from torch.autograd import Variable\n",
        "from dataset import AirplaneDataset\n",
        "from matplotlib.pyplot import imshow\n",
        "import numpy as np\n",
        "%matplotlib inline"
      ],
      "execution_count": 65,
      "outputs": []
    },
    {
      "cell_type": "code",
      "metadata": {
        "id": "kmra13sjC8y3",
        "colab_type": "code",
        "colab": {}
      },
      "source": [
        "# !unzip \"/content/Retail Pulse ML Assignment Data.zip\""
      ],
      "execution_count": 66,
      "outputs": []
    },
    {
      "cell_type": "code",
      "metadata": {
        "id": "u_jEGr5_DHRL",
        "colab_type": "code",
        "colab": {}
      },
      "source": [
        "# set datapath to the 'Retail Pulse ML Assignment' folder\n",
        "DATAPATH = '/content/'\n",
        "\n",
        "train_dataset, validate_dataset = AirplaneDataset(phase='train'), AirplaneDataset(phase='val')\n",
        "\n",
        "train_loader, validate_loader = DataLoader(train_dataset, batch_size=100, shuffle=True), DataLoader(validate_dataset, batch_size=100)\n",
        "\n",
        "num_classes = train_dataset.num_classes"
      ],
      "execution_count": 67,
      "outputs": []
    },
    {
      "cell_type": "code",
      "metadata": {
        "id": "jyy5LlwiD5rn",
        "colab_type": "code",
        "colab": {}
      },
      "source": [
        "class CNNModel(nn.Module):\n",
        "  '''\n",
        "  Model class with 2 convolutional layers \n",
        "  and 2 fully connected layers\n",
        "  '''\n",
        "\n",
        "    def __init__(self):\n",
        "        super(CNNModel, self).__init__()\n",
        "        \n",
        "        # Convolution 1\n",
        "        self.cnn1 = nn.Conv2d(in_channels=3, out_channels=16, kernel_size=3, stride=1, padding=1)\n",
        "        self.relu1 = nn.ReLU()\n",
        "        # Max pool 1\n",
        "        self.maxpool1 = nn.MaxPool2d(kernel_size=2)\n",
        "        \n",
        "        # Convolution 2\n",
        "        self.cnn2 = nn.Conv2d(in_channels=16, out_channels=32, kernel_size=3, stride=1, padding=1)\n",
        "        self.relu2 = nn.ReLU()\n",
        "        # Max pool 2\n",
        "        self.maxpool2 = nn.MaxPool2d(kernel_size=2)\n",
        "        \n",
        "        # Fully Connected\n",
        "        self.dropout1 = nn.Dropout()\n",
        "        self.fc1 = nn.Linear(32 * 18 * 18, 4096)\n",
        "        self.relu4 = nn.ReLU()\n",
        "        self.dropout2 = nn.Dropout()\n",
        "        self.fc2 = nn.Linear(4096, num_classes)\n",
        "    \n",
        "\n",
        "    def forward(self, x):\n",
        "        # Convolution 1\n",
        "        out = self.cnn1(x)\n",
        "        out = self.relu1(out) \n",
        "        # Max pool 1\n",
        "        out = self.maxpool1(out)\n",
        "        \n",
        "        # Convolution 2 \n",
        "        out = self.cnn2(out)\n",
        "        out = self.relu2(out)\n",
        "        # Max pool 2\n",
        "        out = self.maxpool2(out)\n",
        "        \n",
        "        out = out.view(out.size(0), -1)\n",
        "        \n",
        "        # Linear\n",
        "        out = self.dropout1(out)\n",
        "        out = self.fc1(out)\n",
        "        out = self.relu4(out)\n",
        "        out = self.dropout2(out)\n",
        "        out = self.fc2(out)\n",
        "        \n",
        "        return out"
      ],
      "execution_count": 45,
      "outputs": []
    },
    {
      "cell_type": "code",
      "metadata": {
        "id": "oS54iLotD7aV",
        "colab_type": "code",
        "colab": {}
      },
      "source": [
        "# Prepare the model, loss, optimizer\n",
        "model = CNNModel()\n",
        "if torch.cuda.is_available():\n",
        "  model.cuda()\n",
        "criterion = nn.CrossEntropyLoss()\n",
        "learning_rate = 0.1\n",
        "optimizer = torch.optim.SGD(model.parameters(), lr=learning_rate)"
      ],
      "execution_count": 69,
      "outputs": []
    },
    {
      "cell_type": "code",
      "metadata": {
        "id": "dPNt_Z8_WgUz",
        "colab_type": "code",
        "colab": {
          "base_uri": "https://localhost:8080/",
          "height": 187
        },
        "outputId": "d3ec1a01-9b25-4791-c669-d36f353dcc85"
      },
      "source": [
        "# Verify the parameter shapes\n",
        "print(model.parameters())\n",
        "print(len(list(model.parameters())))\n",
        "\n",
        "for i in range(len(list(model.parameters()))):\n",
        "  print(list(model.parameters())[i].size())"
      ],
      "execution_count": 68,
      "outputs": [
        {
          "output_type": "stream",
          "text": [
            "<generator object Module.parameters at 0x7fd7faf75e60>\n",
            "8\n",
            "torch.Size([16, 3, 3, 3])\n",
            "torch.Size([16])\n",
            "torch.Size([32, 16, 3, 3])\n",
            "torch.Size([32])\n",
            "torch.Size([4096, 10368])\n",
            "torch.Size([4096])\n",
            "torch.Size([70, 4096])\n",
            "torch.Size([70])\n"
          ],
          "name": "stdout"
        }
      ]
    },
    {
      "cell_type": "code",
      "metadata": {
        "id": "N10Obu7BCOof",
        "colab_type": "code",
        "colab": {}
      },
      "source": [
        "# Set the iterations, epochs\n",
        "n_iters = 3000\n",
        "batch_size = 100\n",
        "num_epochs = n_iters / (len(train_dataset) / batch_size)\n",
        "num_epochs = int(num_epochs)"
      ],
      "execution_count": null,
      "outputs": []
    },
    {
      "cell_type": "code",
      "metadata": {
        "id": "njt7iDsHEBb7",
        "colab_type": "code",
        "colab": {
          "base_uri": "https://localhost:8080/",
          "height": 527
        },
        "outputId": "65278f38-c732-4c3c-b8d8-1bb39923ab60"
      },
      "source": [
        "iter = 0\n",
        "    \n",
        "for epoch in range(num_epochs):\n",
        "    for i, (images,labels) in enumerate(train_loader):\n",
        "\n",
        "        if torch.cuda.is_available():\n",
        "          images = Variable(images.cuda())\n",
        "          labels = Variable(labels.cuda())\n",
        "        else:\n",
        "          images = Variable(images)\n",
        "          labels = Variable(labels)\n",
        "        \n",
        "        optimizer.zero_grad()\n",
        "        \n",
        "        model.train()\n",
        "        outputs = model(images)\n",
        "\n",
        "        loss = criterion(outputs, labels)\n",
        "        \n",
        "        loss.backward()\n",
        "        \n",
        "        optimizer.step()\n",
        "\n",
        "        iter += 1\n",
        "        \n",
        "        if iter%100 == 0:\n",
        "            correct = 0\n",
        "            total = 0\n",
        "            for images, labels in validate_loader:\n",
        "                if torch.cuda.is_available():\n",
        "                  images = Variable(images.cuda())\n",
        "                else:\n",
        "                  images = Variable(images)\n",
        "                \n",
        "                model.eval()\n",
        "                outputs = model(images)\n",
        "                \n",
        "                _, predicted = torch.max(outputs.data, 1)\n",
        "                total += labels.size(0)\n",
        "                \n",
        "                if torch.cuda.is_available():\n",
        "                    correct += (predicted.cpu() == labels.cpu()).sum()\n",
        "                else:\n",
        "                  correct += (predicted==labels).sum()\n",
        "\n",
        "            accuracy = 100 * correct / total\n",
        "            \n",
        "            print(\"Iteration: {}. Loss {}. Accuracy: {}\".format(iter, loss.item(), accuracy))\n",
        "            "
      ],
      "execution_count": 71,
      "outputs": [
        {
          "output_type": "stream",
          "text": [
            "Iteration: 100. Loss 3.709230422973633. Accuracy: 9\n",
            "Iteration: 200. Loss 3.1367685794830322. Accuracy: 12\n",
            "Iteration: 300. Loss 2.4731619358062744. Accuracy: 21\n",
            "Iteration: 400. Loss 1.8575758934020996. Accuracy: 26\n",
            "Iteration: 500. Loss 0.7299532294273376. Accuracy: 30\n",
            "Iteration: 600. Loss 1.1300098896026611. Accuracy: 31\n",
            "Iteration: 700. Loss 0.21012969315052032. Accuracy: 36\n",
            "Iteration: 800. Loss 0.10335109382867813. Accuracy: 36\n",
            "Iteration: 900. Loss 0.10332939773797989. Accuracy: 36\n",
            "Iteration: 1000. Loss 0.06652893871068954. Accuracy: 37\n",
            "Iteration: 1100. Loss 0.02278219163417816. Accuracy: 38\n",
            "Iteration: 1200. Loss 0.0652838796377182. Accuracy: 38\n",
            "Iteration: 1300. Loss 0.014399146661162376. Accuracy: 38\n",
            "Iteration: 1400. Loss 0.006726131308823824. Accuracy: 39\n",
            "Iteration: 1500. Loss 0.0043958090245723724. Accuracy: 39\n",
            "Iteration: 1600. Loss 0.005041284486651421. Accuracy: 39\n",
            "Iteration: 1700. Loss 0.037220925092697144. Accuracy: 37\n",
            "Iteration: 1800. Loss 0.0030189515091478825. Accuracy: 39\n",
            "Iteration: 1900. Loss 0.003188867587596178. Accuracy: 38\n",
            "Iteration: 2000. Loss 0.04410102963447571. Accuracy: 37\n",
            "Iteration: 2100. Loss 0.0022936153691262007. Accuracy: 38\n",
            "Iteration: 2200. Loss 0.002881708089262247. Accuracy: 39\n",
            "Iteration: 2300. Loss 0.0011724663199856877. Accuracy: 39\n",
            "Iteration: 2400. Loss 0.0011150836944580078. Accuracy: 40\n",
            "Iteration: 2500. Loss 0.0029328633099794388. Accuracy: 40\n",
            "Iteration: 2600. Loss 0.0037629795260727406. Accuracy: 39\n",
            "Iteration: 2700. Loss 0.0008730125264264643. Accuracy: 39\n",
            "Iteration: 2800. Loss 0.0013011646224185824. Accuracy: 40\n",
            "Iteration: 2900. Loss 0.001337671303190291. Accuracy: 38\n",
            "Iteration: 3000. Loss 0.0015225696843117476. Accuracy: 39\n"
          ],
          "name": "stdout"
        }
      ]
    },
    {
      "cell_type": "code",
      "metadata": {
        "id": "svTL8QRPED_Q",
        "colab_type": "code",
        "colab": {
          "base_uri": "https://localhost:8080/",
          "height": 1000
        },
        "outputId": "3dc71463-51d3-4164-9285-09bd3db9c2a6"
      },
      "source": [
        "# Post training calculate total accuracy, classwise accuracies\n",
        "classwise_accuracy = {}\n",
        "\n",
        "for i in range(70):\n",
        "  classwise_accuracy[i] = (0,0)\n",
        "\n",
        "for images, labels in validate_loader:\n",
        "\n",
        "    if torch.cuda.is_available():\n",
        "      images = Variable(images.cuda())\n",
        "    else:\n",
        "      images = Variable(images)\n",
        "    \n",
        "    model.eval()\n",
        "    outputs = model(images)\n",
        "    \n",
        "    _, predicted = torch.max(outputs.data, 1)\n",
        "    total += labels.size(0)\n",
        "\n",
        "    labels_list = labels.tolist()\n",
        "    pred_list = predicted.tolist()\n",
        "\n",
        "    for i in range(predicted.size(0)):\n",
        "      (x,y) = classwise_accuracy[labels_list[i]]\n",
        "      if (pred_list[i]==labels_list[i]):\n",
        "        x = x + 1\n",
        "      y = y+1\n",
        "      classwise_accuracy[labels_list[i]] = (x,y)\n",
        "    \n",
        "    if torch.cuda.is_available():\n",
        "        correct += (predicted.cpu() == labels.cpu()).sum()\n",
        "    else:\n",
        "      correct += (predicted==labels).sum()\n",
        "\n",
        "accuracy = 100 * correct / total\n",
        "\n",
        "print(\"Final: Accuracy: {}\\n\".format(accuracy))\n",
        "\n",
        "# print classwise accuracies with class name\n",
        "with open(os.path.join(DATAPATH,'families.txt'),'r') as f:\n",
        "    for idx,line in enumerate(f.readlines()):\n",
        "        (x,y) = classwise_accuracy[idx]\n",
        "        print(\"Class :{}, Class name :{}, Accuracy :{}\".format(idx,line.strip(),100 * x/y))\n"
      ],
      "execution_count": 76,
      "outputs": [
        {
          "output_type": "stream",
          "text": [
            "Final: Accuracy: 39\n",
            "\n",
            "Class :0 Class name :A300 Accuracy :18.181818181818183\n",
            "Class :1 Class name :A310 Accuracy :11.764705882352942\n",
            "Class :2 Class name :A320 Accuracy :42.857142857142854\n",
            "Class :3 Class name :A330 Accuracy :28.35820895522388\n",
            "Class :4 Class name :A340 Accuracy :57.89473684210526\n",
            "Class :5 Class name :A380 Accuracy :27.272727272727273\n",
            "Class :6 Class name :ATR-42 Accuracy :17.647058823529413\n",
            "Class :7 Class name :ATR-72 Accuracy :39.39393939393939\n",
            "Class :8 Class name :An-12 Accuracy :51.515151515151516\n",
            "Class :9 Class name :BAE 146 Accuracy :43.28358208955224\n",
            "Class :10 Class name :BAE-125 Accuracy :33.333333333333336\n",
            "Class :11 Class name :Beechcraft 1900 Accuracy :23.529411764705884\n",
            "Class :12 Class name :Boeing 707 Accuracy :12.121212121212121\n",
            "Class :13 Class name :Boeing 717 Accuracy :12.121212121212121\n",
            "Class :14 Class name :Boeing 727 Accuracy :17.647058823529413\n",
            "Class :15 Class name :Boeing 737 Accuracy :60.150375939849624\n",
            "Class :16 Class name :Boeing 747 Accuracy :48.507462686567166\n",
            "Class :17 Class name :Boeing 757 Accuracy :34.84848484848485\n",
            "Class :18 Class name :Boeing 767 Accuracy :24.0\n",
            "Class :19 Class name :Boeing 777 Accuracy :26.865671641791046\n",
            "Class :20 Class name :C-130 Accuracy :42.42424242424242\n",
            "Class :21 Class name :C-47 Accuracy :14.705882352941176\n",
            "Class :22 Class name :CRJ-200 Accuracy :30.303030303030305\n",
            "Class :23 Class name :CRJ-700 Accuracy :46.26865671641791\n",
            "Class :24 Class name :Cessna 172 Accuracy :57.57575757575758\n",
            "Class :25 Class name :Cessna 208 Accuracy :33.333333333333336\n",
            "Class :26 Class name :Cessna Citation Accuracy :43.28358208955224\n",
            "Class :27 Class name :Challenger 600 Accuracy :39.39393939393939\n",
            "Class :28 Class name :DC-10 Accuracy :5.882352941176471\n",
            "Class :29 Class name :DC-3 Accuracy :27.272727272727273\n",
            "Class :30 Class name :DC-6 Accuracy :30.303030303030305\n",
            "Class :31 Class name :DC-8 Accuracy :20.58823529411765\n",
            "Class :32 Class name :DC-9 Accuracy :3.0303030303030303\n",
            "Class :33 Class name :DH-82 Accuracy :45.45454545454545\n",
            "Class :34 Class name :DHC-1 Accuracy :44.11764705882353\n",
            "Class :35 Class name :DHC-6 Accuracy :27.272727272727273\n",
            "Class :36 Class name :DR-400 Accuracy :57.57575757575758\n",
            "Class :37 Class name :Dash 8 Accuracy :50.74626865671642\n",
            "Class :38 Class name :Dornier 328 Accuracy :54.54545454545455\n",
            "Class :39 Class name :EMB-120 Accuracy :44.11764705882353\n",
            "Class :40 Class name :Embraer E-Jet Accuracy :41.0\n",
            "Class :41 Class name :Embraer ERJ 145 Accuracy :39.39393939393939\n",
            "Class :42 Class name :Embraer Legacy 600 Accuracy :41.1764705882353\n",
            "Class :43 Class name :Eurofighter Typhoon Accuracy :66.66666666666667\n",
            "Class :44 Class name :F-16 Accuracy :57.57575757575758\n",
            "Class :45 Class name :F/A-18 Accuracy :52.94117647058823\n",
            "Class :46 Class name :Falcon 2000 Accuracy :72.72727272727273\n",
            "Class :47 Class name :Falcon 900 Accuracy :54.54545454545455\n",
            "Class :48 Class name :Fokker 100 Accuracy :23.529411764705884\n",
            "Class :49 Class name :Fokker 50 Accuracy :39.39393939393939\n",
            "Class :50 Class name :Fokker 70 Accuracy :36.36363636363637\n",
            "Class :51 Class name :Global Express Accuracy :32.35294117647059\n",
            "Class :52 Class name :Gulfstream Accuracy :54.54545454545455\n",
            "Class :53 Class name :Hawk T1 Accuracy :35.294117647058826\n",
            "Class :54 Class name :Il-76 Accuracy :48.484848484848484\n",
            "Class :55 Class name :King Air Accuracy :27.272727272727273\n",
            "Class :56 Class name :L-1011 Accuracy :18.181818181818183\n",
            "Class :57 Class name :MD-11 Accuracy :26.470588235294116\n",
            "Class :58 Class name :MD-80 Accuracy :22.727272727272727\n",
            "Class :59 Class name :MD-90 Accuracy :14.705882352941176\n",
            "Class :60 Class name :Metroliner Accuracy :51.515151515151516\n",
            "Class :61 Class name :PA-28 Accuracy :44.11764705882353\n",
            "Class :62 Class name :SR-20 Accuracy :60.60606060606061\n",
            "Class :63 Class name :Saab 2000 Accuracy :42.42424242424242\n",
            "Class :64 Class name :Saab 340 Accuracy :47.05882352941177\n",
            "Class :65 Class name :Spitfire Accuracy :54.54545454545455\n",
            "Class :66 Class name :Tornado Accuracy :39.39393939393939\n",
            "Class :67 Class name :Tu-134 Accuracy :44.11764705882353\n",
            "Class :68 Class name :Tu-154 Accuracy :30.303030303030305\n",
            "Class :69 Class name :Yak-42 Accuracy :42.42424242424242\n"
          ],
          "name": "stdout"
        }
      ]
    },
    {
      "cell_type": "code",
      "metadata": {
        "id": "7UVv0ZJ8Hbr8",
        "colab_type": "code",
        "colab": {}
      },
      "source": [
        "# Save the model\n",
        "torch.save(model.state_dict(), 'best_model.pt')"
      ],
      "execution_count": 77,
      "outputs": []
    },
    {
      "cell_type": "code",
      "metadata": {
        "id": "cHs2LNPbHpZF",
        "colab_type": "code",
        "colab": {}
      },
      "source": [
        ""
      ],
      "execution_count": null,
      "outputs": []
    }
  ]
}