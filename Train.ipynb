{
  "nbformat": 4,
  "nbformat_minor": 0,
  "metadata": {
    "colab": {
      "name": "Train.ipynb",
      "provenance": []
    },
    "kernelspec": {
      "name": "python3",
      "display_name": "Python 3"
    },
    "accelerator": "GPU"
  },
  "cells": [
    {
      "cell_type": "code",
      "metadata": {
        "id": "gTB2AJETBt_2",
        "colab_type": "code",
        "colab": {}
      },
      "source": [
        "import torch\n",
        "import torch.nn as nn\n",
        "from torch.utils.data import DataLoader\n",
        "from torch.autograd import Variable\n",
        "from dataset import AirplaneDataset\n",
        "from matplotlib.pyplot import imshow\n",
        "import numpy as np\n",
        "%matplotlib inline"
      ],
      "execution_count": 65,
      "outputs": []
    },
    {
      "cell_type": "code",
      "metadata": {
        "id": "kmra13sjC8y3",
        "colab_type": "code",
        "colab": {}
      },
      "source": [
        "# !unzip \"/content/Retail Pulse ML Assignment Data.zip\""
      ],
      "execution_count": 66,
      "outputs": []
    },
    {
      "cell_type": "code",
      "metadata": {
        "id": "u_jEGr5_DHRL",
        "colab_type": "code",
        "colab": {}
      },
      "source": [
        "# set datapath to the 'Retail Pulse ML Assignment' folder\n",
        "DATAPATH = '/content/'\n",
        "\n",
        "train_dataset, validate_dataset = AirplaneDataset(phase='train'), AirplaneDataset(phase='val')\n",
        "\n",
        "train_loader, validate_loader = DataLoader(train_dataset, batch_size=100, shuffle=True), DataLoader(validate_dataset, batch_size=100)\n",
        "\n",
        "num_classes = train_dataset.num_classes"
      ],
      "execution_count": 67,
      "outputs": []
    },
    {
      "cell_type": "code",
      "metadata": {
        "id": "jyy5LlwiD5rn",
        "colab_type": "code",
        "colab": {}
      },
      "source": [
        "class CNNModel(nn.Module):\n",
        "    def __init__(self):\n",
        "        super(CNNModel, self).__init__()\n",
        "        \n",
        "        # Convolution 1\n",
        "        self.cnn1 = nn.Conv2d(in_channels=3, out_channels=32, kernel_size=3, stride=1, padding=1)\n",
        "        self.relu1 = nn.ReLU()\n",
        "        # Max pool 1\n",
        "        self.maxpool1 = nn.MaxPool2d(kernel_size=2)\n",
        "        \n",
        "        # Convolution 2\n",
        "        self.cnn2 = nn.Conv2d(in_channels=32, out_channels=8, kernel_size=3, stride=1, padding=1)\n",
        "        self.relu2 = nn.ReLU()\n",
        "        # Max pool 2\n",
        "        self.maxpool2 = nn.MaxPool2d(kernel_size=2)\n",
        "\n",
        "        # Linear layers\n",
        "        self.dropout1 = nn.Dropout()\n",
        "        self.fc1 = nn.Linear(8 * 18 * 18, 1024)\n",
        "        self.relu4 = nn.ReLU()\n",
        "        self.dropout2 = nn.Dropout()\n",
        "        self.fc2 = nn.Linear(1024, 256)\n",
        "        self.relu5 = nn.ReLU()\n",
        "        self.dropout3 = nn.Dropout()\n",
        "        self.fc3 = nn.Linear(256, num_classes)\n",
        "    \n",
        "    def forward(self, x):\n",
        "        # Convolution 1\n",
        "        out = self.cnn1(x)\n",
        "        out = self.relu1(out)\n",
        "        # Max pool 1\n",
        "        out = self.maxpool1(out)\n",
        "        \n",
        "        # Convolution 2 \n",
        "        out = self.cnn2(out)\n",
        "        out = self.relu2(out)\n",
        "        # Max pool 2\n",
        "        out = self.maxpool2(out)\n",
        "        \n",
        "        out = out.view(out.size(0), -1)\n",
        "        \n",
        "        # Linear\n",
        "        # out = self.dropout1(out)\n",
        "        out = self.fc1(out)\n",
        "        out = self.relu4(out)\n",
        "        out = self.dropout2(out)\n",
        "        out = self.fc2(out)\n",
        "        out = self.relu5(out)\n",
        "        out = self.dropout3(out)\n",
        "        out = self.fc3(out)\n",
        "        \n",
        "        return out"
      ],
      "execution_count": 97,
      "outputs": []
    },
    {
      "cell_type": "code",
      "metadata": {
        "id": "oS54iLotD7aV",
        "colab_type": "code",
        "colab": {}
      },
      "source": [
        "# Prepare the model, loss, optimizer\n",
        "model = CNNModel()\n",
        "if torch.cuda.is_available():\n",
        "  model.cuda()\n",
        "criterion = nn.CrossEntropyLoss()\n",
        "learning_rate = 0.1\n",
        "optimizer = torch.optim.SGD(model.parameters(), lr=learning_rate)"
      ],
      "execution_count": 98,
      "outputs": []
    },
    {
      "cell_type": "code",
      "metadata": {
        "id": "dPNt_Z8_WgUz",
        "colab_type": "code",
        "colab": {
          "base_uri": "https://localhost:8080/",
          "height": 221
        },
        "outputId": "d7e32977-e96b-41fb-8626-f0fcc77966c2"
      },
      "source": [
        "# Verify the parameter shapes\n",
        "print(model.parameters())\n",
        "print(len(list(model.parameters())))\n",
        "\n",
        "for i in range(len(list(model.parameters()))):\n",
        "  print(list(model.parameters())[i].size())"
      ],
      "execution_count": 99,
      "outputs": [
        {
          "output_type": "stream",
          "text": [
            "<generator object Module.parameters at 0x7fd7faed0ba0>\n",
            "10\n",
            "torch.Size([32, 3, 3, 3])\n",
            "torch.Size([32])\n",
            "torch.Size([8, 32, 3, 3])\n",
            "torch.Size([8])\n",
            "torch.Size([1024, 2592])\n",
            "torch.Size([1024])\n",
            "torch.Size([256, 1024])\n",
            "torch.Size([256])\n",
            "torch.Size([70, 256])\n",
            "torch.Size([70])\n"
          ],
          "name": "stdout"
        }
      ]
    },
    {
      "cell_type": "code",
      "metadata": {
        "id": "N10Obu7BCOof",
        "colab_type": "code",
        "colab": {}
      },
      "source": [
        "# Set the iterations, epochs\n",
        "n_iters = 3000\n",
        "batch_size = 100\n",
        "num_epochs = n_iters / (len(train_dataset) / batch_size)\n",
        "num_epochs = int(num_epochs)"
      ],
      "execution_count": 100,
      "outputs": []
    },
    {
      "cell_type": "code",
      "metadata": {
        "id": "njt7iDsHEBb7",
        "colab_type": "code",
        "colab": {
          "base_uri": "https://localhost:8080/",
          "height": 527
        },
        "outputId": "9658193d-a9e5-4a2d-ab7d-13616375bbdc"
      },
      "source": [
        "iter = 0\n",
        "    \n",
        "for epoch in range(num_epochs):\n",
        "    for i, (images,labels) in enumerate(train_loader):\n",
        "\n",
        "        if torch.cuda.is_available():\n",
        "          images = Variable(images.cuda())\n",
        "          labels = Variable(labels.cuda())\n",
        "        else:\n",
        "          images = Variable(images)\n",
        "          labels = Variable(labels)\n",
        "        \n",
        "        optimizer.zero_grad()\n",
        "        \n",
        "        model.train()\n",
        "        outputs = model(images)\n",
        "\n",
        "        loss = criterion(outputs, labels)\n",
        "        \n",
        "        loss.backward()\n",
        "        \n",
        "        optimizer.step()\n",
        "\n",
        "        iter += 1\n",
        "        \n",
        "        if iter%100 == 0:\n",
        "            correct = 0\n",
        "            total = 0\n",
        "            for images, labels in validate_loader:\n",
        "                if torch.cuda.is_available():\n",
        "                  images = Variable(images.cuda())\n",
        "                else:\n",
        "                  images = Variable(images)\n",
        "                \n",
        "                model.eval()\n",
        "                outputs = model(images)\n",
        "                \n",
        "                _, predicted = torch.max(outputs.data, 1)\n",
        "                total += labels.size(0)\n",
        "                \n",
        "                if torch.cuda.is_available():\n",
        "                    correct += (predicted.cpu() == labels.cpu()).sum()\n",
        "                else:\n",
        "                  correct += (predicted==labels).sum()\n",
        "\n",
        "            accuracy = 100 * correct / total\n",
        "            \n",
        "            print(\"Iteration: {}. Loss {}. Accuracy: {}\".format(iter, loss.item(), accuracy))\n",
        "            "
      ],
      "execution_count": 101,
      "outputs": [
        {
          "output_type": "stream",
          "text": [
            "Iteration: 100. Loss 3.9200754165649414. Accuracy: 7\n",
            "Iteration: 200. Loss 4.027720928192139. Accuracy: 8\n",
            "Iteration: 300. Loss 3.6873257160186768. Accuracy: 9\n",
            "Iteration: 400. Loss 3.227139949798584. Accuracy: 14\n",
            "Iteration: 500. Loss 3.386666774749756. Accuracy: 15\n",
            "Iteration: 600. Loss 2.916623592376709. Accuracy: 19\n",
            "Iteration: 700. Loss 2.8206565380096436. Accuracy: 22\n",
            "Iteration: 800. Loss 2.5876004695892334. Accuracy: 24\n",
            "Iteration: 900. Loss 2.144606590270996. Accuracy: 29\n",
            "Iteration: 1000. Loss 2.385101079940796. Accuracy: 29\n",
            "Iteration: 1100. Loss 1.8491215705871582. Accuracy: 31\n",
            "Iteration: 1200. Loss 1.5711586475372314. Accuracy: 34\n",
            "Iteration: 1300. Loss 1.4156100749969482. Accuracy: 35\n",
            "Iteration: 1400. Loss 1.1908375024795532. Accuracy: 35\n",
            "Iteration: 1500. Loss 1.0558358430862427. Accuracy: 35\n",
            "Iteration: 1600. Loss 0.8028101921081543. Accuracy: 37\n",
            "Iteration: 1700. Loss 0.7273221015930176. Accuracy: 34\n",
            "Iteration: 1800. Loss 0.9163447618484497. Accuracy: 38\n",
            "Iteration: 1900. Loss 0.6586151719093323. Accuracy: 37\n",
            "Iteration: 2000. Loss 0.5850768089294434. Accuracy: 40\n",
            "Iteration: 2100. Loss 0.7420855164527893. Accuracy: 40\n",
            "Iteration: 2200. Loss 0.5266900062561035. Accuracy: 39\n",
            "Iteration: 2300. Loss 0.6519721746444702. Accuracy: 39\n",
            "Iteration: 2400. Loss 0.6029364466667175. Accuracy: 39\n",
            "Iteration: 2500. Loss 0.3543805181980133. Accuracy: 39\n",
            "Iteration: 2600. Loss 0.3632448613643646. Accuracy: 39\n",
            "Iteration: 2700. Loss 0.43906620144844055. Accuracy: 39\n",
            "Iteration: 2800. Loss 0.28006428480148315. Accuracy: 41\n",
            "Iteration: 2900. Loss 0.27614066004753113. Accuracy: 39\n",
            "Iteration: 3000. Loss 0.16845053434371948. Accuracy: 40\n"
          ],
          "name": "stdout"
        }
      ]
    },
    {
      "cell_type": "code",
      "metadata": {
        "id": "svTL8QRPED_Q",
        "colab_type": "code",
        "colab": {
          "base_uri": "https://localhost:8080/",
          "height": 1000
        },
        "outputId": "b2c9d916-f0a2-4b0e-d35b-3d4622897ef0"
      },
      "source": [
        "# Post training calculate total accuracy, classwise accuracies\n",
        "classwise_accuracy = {}\n",
        "\n",
        "for i in range(70):\n",
        "  classwise_accuracy[i] = (0,0)\n",
        "\n",
        "for images, labels in validate_loader:\n",
        "\n",
        "    if torch.cuda.is_available():\n",
        "      images = Variable(images.cuda())\n",
        "    else:\n",
        "      images = Variable(images)\n",
        "    \n",
        "    model.eval()\n",
        "    outputs = model(images)\n",
        "    \n",
        "    _, predicted = torch.max(outputs.data, 1)\n",
        "    total += labels.size(0)\n",
        "\n",
        "    labels_list = labels.tolist()\n",
        "    pred_list = predicted.tolist()\n",
        "\n",
        "    for i in range(predicted.size(0)):\n",
        "      (x,y) = classwise_accuracy[labels_list[i]]\n",
        "      if (pred_list[i]==labels_list[i]):\n",
        "        x = x + 1\n",
        "      y = y+1\n",
        "      classwise_accuracy[labels_list[i]] = (x,y)\n",
        "    \n",
        "    if torch.cuda.is_available():\n",
        "        correct += (predicted.cpu() == labels.cpu()).sum()\n",
        "    else:\n",
        "      correct += (predicted==labels).sum()\n",
        "\n",
        "accuracy = 100 * correct / total\n",
        "\n",
        "print(\"Final: Accuracy: {}\\n\".format(accuracy))\n",
        "\n",
        "# print classwise accuracies with class name\n",
        "with open(os.path.join(DATAPATH,'families.txt'),'r') as f:\n",
        "    for idx,line in enumerate(f.readlines()):\n",
        "        (x,y) = classwise_accuracy[idx]\n",
        "        print(\"Class :{}, Class name :{}, Accuracy :{}\".format(idx,line.strip(),100 * x/y))\n"
      ],
      "execution_count": 102,
      "outputs": [
        {
          "output_type": "stream",
          "text": [
            "Final: Accuracy: 40\n",
            "\n",
            "Class :0, Class name :A300, Accuracy :12.121212121212121\n",
            "Class :1, Class name :A310, Accuracy :26.470588235294116\n",
            "Class :2, Class name :A320, Accuracy :44.3609022556391\n",
            "Class :3, Class name :A330, Accuracy :32.83582089552239\n",
            "Class :4, Class name :A340, Accuracy :39.849624060150376\n",
            "Class :5, Class name :A380, Accuracy :51.515151515151516\n",
            "Class :6, Class name :ATR-42, Accuracy :41.1764705882353\n",
            "Class :7, Class name :ATR-72, Accuracy :30.303030303030305\n",
            "Class :8, Class name :An-12, Accuracy :48.484848484848484\n",
            "Class :9, Class name :BAE 146, Accuracy :41.791044776119406\n",
            "Class :10, Class name :BAE-125, Accuracy :33.333333333333336\n",
            "Class :11, Class name :Beechcraft 1900, Accuracy :32.35294117647059\n",
            "Class :12, Class name :Boeing 707, Accuracy :18.181818181818183\n",
            "Class :13, Class name :Boeing 717, Accuracy :15.151515151515152\n",
            "Class :14, Class name :Boeing 727, Accuracy :20.58823529411765\n",
            "Class :15, Class name :Boeing 737, Accuracy :56.390977443609025\n",
            "Class :16, Class name :Boeing 747, Accuracy :49.25373134328358\n",
            "Class :17, Class name :Boeing 757, Accuracy :36.36363636363637\n",
            "Class :18, Class name :Boeing 767, Accuracy :33.0\n",
            "Class :19, Class name :Boeing 777, Accuracy :26.865671641791046\n",
            "Class :20, Class name :C-130, Accuracy :36.36363636363637\n",
            "Class :21, Class name :C-47, Accuracy :8.823529411764707\n",
            "Class :22, Class name :CRJ-200, Accuracy :36.36363636363637\n",
            "Class :23, Class name :CRJ-700, Accuracy :53.73134328358209\n",
            "Class :24, Class name :Cessna 172, Accuracy :45.45454545454545\n",
            "Class :25, Class name :Cessna 208, Accuracy :45.45454545454545\n",
            "Class :26, Class name :Cessna Citation, Accuracy :31.34328358208955\n",
            "Class :27, Class name :Challenger 600, Accuracy :54.54545454545455\n",
            "Class :28, Class name :DC-10, Accuracy :14.705882352941176\n",
            "Class :29, Class name :DC-3, Accuracy :39.39393939393939\n",
            "Class :30, Class name :DC-6, Accuracy :15.151515151515152\n",
            "Class :31, Class name :DC-8, Accuracy :8.823529411764707\n",
            "Class :32, Class name :DC-9, Accuracy :12.121212121212121\n",
            "Class :33, Class name :DH-82, Accuracy :48.484848484848484\n",
            "Class :34, Class name :DHC-1, Accuracy :41.1764705882353\n",
            "Class :35, Class name :DHC-6, Accuracy :27.272727272727273\n",
            "Class :36, Class name :DR-400, Accuracy :42.42424242424242\n",
            "Class :37, Class name :Dash 8, Accuracy :49.25373134328358\n",
            "Class :38, Class name :Dornier 328, Accuracy :51.515151515151516\n",
            "Class :39, Class name :EMB-120, Accuracy :41.1764705882353\n",
            "Class :40, Class name :Embraer E-Jet, Accuracy :29.0\n",
            "Class :41, Class name :Embraer ERJ 145, Accuracy :51.515151515151516\n",
            "Class :42, Class name :Embraer Legacy 600, Accuracy :41.1764705882353\n",
            "Class :43, Class name :Eurofighter Typhoon, Accuracy :60.60606060606061\n",
            "Class :44, Class name :F-16, Accuracy :27.272727272727273\n",
            "Class :45, Class name :F/A-18, Accuracy :29.41176470588235\n",
            "Class :46, Class name :Falcon 2000, Accuracy :51.515151515151516\n",
            "Class :47, Class name :Falcon 900, Accuracy :66.66666666666667\n",
            "Class :48, Class name :Fokker 100, Accuracy :26.470588235294116\n",
            "Class :49, Class name :Fokker 50, Accuracy :48.484848484848484\n",
            "Class :50, Class name :Fokker 70, Accuracy :24.242424242424242\n",
            "Class :51, Class name :Global Express, Accuracy :41.1764705882353\n",
            "Class :52, Class name :Gulfstream, Accuracy :40.90909090909091\n",
            "Class :53, Class name :Hawk T1, Accuracy :38.23529411764706\n",
            "Class :54, Class name :Il-76, Accuracy :48.484848484848484\n",
            "Class :55, Class name :King Air, Accuracy :21.21212121212121\n",
            "Class :56, Class name :L-1011, Accuracy :15.151515151515152\n",
            "Class :57, Class name :MD-11, Accuracy :38.23529411764706\n",
            "Class :58, Class name :MD-80, Accuracy :37.878787878787875\n",
            "Class :59, Class name :MD-90, Accuracy :29.41176470588235\n",
            "Class :60, Class name :Metroliner, Accuracy :45.45454545454545\n",
            "Class :61, Class name :PA-28, Accuracy :38.23529411764706\n",
            "Class :62, Class name :SR-20, Accuracy :54.54545454545455\n",
            "Class :63, Class name :Saab 2000, Accuracy :66.66666666666667\n",
            "Class :64, Class name :Saab 340, Accuracy :67.6470588235294\n",
            "Class :65, Class name :Spitfire, Accuracy :72.72727272727273\n",
            "Class :66, Class name :Tornado, Accuracy :45.45454545454545\n",
            "Class :67, Class name :Tu-134, Accuracy :44.11764705882353\n",
            "Class :68, Class name :Tu-154, Accuracy :33.333333333333336\n",
            "Class :69, Class name :Yak-42, Accuracy :63.63636363636363\n"
          ],
          "name": "stdout"
        }
      ]
    },
    {
      "cell_type": "code",
      "metadata": {
        "id": "7UVv0ZJ8Hbr8",
        "colab_type": "code",
        "colab": {}
      },
      "source": [
        "# Save the model\n",
        "torch.save(model.state_dict(), 'best_model.pt')"
      ],
      "execution_count": 103,
      "outputs": []
    },
    {
      "cell_type": "code",
      "metadata": {
        "id": "cHs2LNPbHpZF",
        "colab_type": "code",
        "colab": {}
      },
      "source": [
        ""
      ],
      "execution_count": null,
      "outputs": []
    }
  ]
}